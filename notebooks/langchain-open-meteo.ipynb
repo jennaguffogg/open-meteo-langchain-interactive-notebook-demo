{
 "cells": [
  {
   "cell_type": "code",
   "execution_count": 1,
   "metadata": {},
   "outputs": [],
   "source": [
    "import os\n",
    "import requests\n",
    "from langchain_openai import OpenAI\n",
    "from langchain.chat_models import ChatOpenAI\n",
    "from langchain.chains import APIChain\n",
    "from langchain.prompts.chat import ChatPromptTemplate, HumanMessagePromptTemplate\n",
    "from langchain.output_parsers import PydanticOutputParser\n",
    "from pydantic import BaseModel, Field\n",
    "import ipywidgets as widgets\n",
    "from IPython.display import display, clear_output\n",
    "from dotenv import load_dotenv"
   ]
  },
  {
   "cell_type": "code",
   "execution_count": 2,
   "metadata": {},
   "outputs": [],
   "source": [
    "# Create a text box for input\n",
    "text = widgets.Text(\n",
    "    value='',\n",
    "    placeholder='Type a city name:',\n",
    "    description='City:',\n",
    "    disabled=False\n",
    ")\n",
    "\n",
    "button = widgets.Button(description=\"submit\")\n",
    "\n",
    "output = widgets.Output()\n",
    "\n",
    "def on_button_clicked(b):\n",
    "    with output:\n",
    "        clear_output()\n",
    "        city_name = text.value\n",
    "        print(f\"City entered: {city_name}\")\n",
    "\n",
    "button.on_click(on_button_clicked)"
   ]
  },
  {
   "cell_type": "code",
   "execution_count": 8,
   "metadata": {},
   "outputs": [
    {
     "name": "stdout",
     "output_type": "stream",
     "text": [
      " The API call was unsuccessful due to data corruption, and the requested information about the current weather in Amsterdam, The Netherlands in degrees Celsius could not be retrieved.\n"
     ]
    }
   ],
   "source": [
    "load_dotenv()\n",
    "\n",
    "OPENAI_MODEL = \"gpt-3.5-turbo\"\n",
    "OPENAI_API_KEY = os.environ.get(\"OPENAI_API_KEY\")\n",
    "\n",
    "llm = OpenAI(temperature=0)\n",
    "\n",
    "#openmeteo = 'https://api.open-meteo.com/v1/forecast'\n",
    "\n",
    "# API Documentation\n",
    "api_docs = \"https://open-meteo.com/en/docs\"\n",
    "\n",
    "# Define allowed domains\n",
    "allowed_domains = [\"api.open-meteo.com/v1/forecast\"]\n",
    "\n",
    "# Initialize the APIChain with the correct parameters\n",
    "chain_new = APIChain.from_llm_and_api_docs(\n",
    "    llm=llm,\n",
    "    api_docs=api_docs,\n",
    "    limit_to_domains=None,\n",
    "    verbose=False\n",
    ")\n",
    "\n",
    "result = chain_new.run(\n",
    "        \"What is the weather like right now in Amsterdam, The Netherlands in degrees Celcius?\"\n",
    "    )\n",
    "print(result)"
   ]
  },
  {
   "cell_type": "code",
   "execution_count": 5,
   "metadata": {},
   "outputs": [
    {
     "data": {
      "application/vnd.jupyter.widget-view+json": {
       "model_id": "bd84a2eebe194a44bb29df83d89e7fd9",
       "version_major": 2,
       "version_minor": 0
      },
      "text/plain": [
       "Text(value='Melbourne', description='City:', placeholder='Type a city name:')"
      ]
     },
     "metadata": {},
     "output_type": "display_data"
    },
    {
     "data": {
      "application/vnd.jupyter.widget-view+json": {
       "model_id": "37405141ad684753889a7ac7e248c16c",
       "version_major": 2,
       "version_minor": 0
      },
      "text/plain": [
       "Button(description='submit', style=ButtonStyle())"
      ]
     },
     "metadata": {},
     "output_type": "display_data"
    },
    {
     "data": {
      "application/vnd.jupyter.widget-view+json": {
       "model_id": "fdd77dccfb234c24b6299c0d3d9891c5",
       "version_major": 2,
       "version_minor": 0
      },
      "text/plain": [
       "Output(outputs=({'name': 'stdout', 'text': 'City entered: Melbourne\\n', 'output_type': 'stream'},))"
      ]
     },
     "metadata": {},
     "output_type": "display_data"
    }
   ],
   "source": [
    "display(text, button, output)"
   ]
  },
  {
   "cell_type": "code",
   "execution_count": null,
   "metadata": {},
   "outputs": [],
   "source": []
  }
 ],
 "metadata": {
  "kernelspec": {
   "display_name": ".venv",
   "language": "python",
   "name": "python3"
  },
  "language_info": {
   "codemirror_mode": {
    "name": "ipython",
    "version": 3
   },
   "file_extension": ".py",
   "mimetype": "text/x-python",
   "name": "python",
   "nbconvert_exporter": "python",
   "pygments_lexer": "ipython3",
   "version": "3.10.12"
  }
 },
 "nbformat": 4,
 "nbformat_minor": 2
}
